{
 "cells": [
  {
   "cell_type": "code",
   "execution_count": 2,
   "metadata": {
    "scrolled": false
   },
   "outputs": [
    {
     "data": {
      "text/plain": [
       "' \\nthis is a pytorch implementation of alexnet, trained and validated on \\nImageNet.\\n\\nfirst time implementing a deep learning paper. \\n\\nusing CIFAR-10 because ImageNet is too big to do locally\\n\\n'"
      ]
     },
     "execution_count": 2,
     "metadata": {},
     "output_type": "execute_result"
    }
   ],
   "source": [
    "\"\"\" \n",
    "this is a pytorch implementation of alexnet, trained and validated on \n",
    "CIFAR-10.\n",
    "\n",
    "first time implementing a deep learning paper. \n",
    "\n",
    "using CIFAR-10 because ImageNet is too big to do locally\n",
    "\n",
    "\"\"\"\n",
    "\n",
    "### TODO ### \n",
    "# - import dependencies \n",
    "# - load the data\n",
    "# - set up model architecture\n",
    "# - define the forward pass \n",
    "# - write a training loop\n",
    "# - train and validate model\n",
    "# - final accuracy on test data\n",
    "\n",
    "### add later ###\n",
    "# - visualize loss \n",
    "# - visualize data\n",
    "# - figure out how to get ImageNet"
   ]
  },
  {
   "cell_type": "code",
   "execution_count": 11,
   "metadata": {},
   "outputs": [],
   "source": [
    "import torch\n",
    "import torch.nn as nn\n",
    "\n",
    "# to load the data\n",
    "from torch.utils.data import DataLoader\n",
    "\n",
    "# optimizer \n",
    "import torch.optim as optim\n",
    "\n",
    "from torch.utils.data import sampler\n",
    "\n",
    "import torchvision.datasets as dset\n",
    "import torchvision.transforms as T \n",
    "\n",
    "import numpy as np"
   ]
  },
  {
   "cell_type": "code",
   "execution_count": 21,
   "metadata": {},
   "outputs": [
    {
     "name": "stdout",
     "output_type": "stream",
     "text": [
      "using device: cpu\n"
     ]
    }
   ],
   "source": [
    "USE_GPU = True\n",
    "\n",
    "dtype = torch.float32 # we will be using float throughout this tutorial\n",
    "\n",
    "if USE_GPU and torch.cuda.is_available():\n",
    "    device = torch.device('cuda')\n",
    "else:\n",
    "    device = torch.device('cpu')\n",
    "\n",
    "# Constant to control how frequently we print train loss\n",
    "print_every = 100\n",
    "\n",
    "print('using device:', device)"
   ]
  },
  {
   "cell_type": "code",
   "execution_count": 18,
   "metadata": {},
   "outputs": [],
   "source": [
    "# set up preprocessing transformations: \n",
    "# - resize to 256x256\n",
    "# - take center crops 224x224\n",
    "# - center with mean\n",
    "\n",
    "# original paper resized image to 224x224, skip that becuase CIFAR-10\n",
    "# has tiny images \n",
    "\n",
    "\n",
    "transform = T.Compose([\n",
    "                T.ToTensor(),\n",
    "                T.Normalize(mean=(0.4914, 0.4822, 0.4465), std=(0.2023, 0.1994, 0.2010))\n",
    "            ])"
   ]
  },
  {
   "cell_type": "code",
   "execution_count": 19,
   "metadata": {},
   "outputs": [
    {
     "name": "stdout",
     "output_type": "stream",
     "text": [
      "/Users/Nrj/Desktop/paper implementations/datasets\n",
      "/Users/Nrj/Desktop/paper implementations/AlexNet\n",
      "Files already downloaded and verified\n",
      "Files already downloaded and verified\n",
      "Files already downloaded and verified\n"
     ]
    }
   ],
   "source": [
    "# load the data using a Dataset object and DataLoader wrapper\n",
    "%cd ../datasets\n",
    "!bash get_datasets.sh\n",
    "%cd ../AlexNet\n",
    "NUM_TRAIN = 49000\n",
    "\n",
    "cifar10_train = dset.CIFAR10('./datasets', train=True, download=True,\n",
    "                             transform=transform)\n",
    "loader_train = DataLoader(cifar10_train, batch_size=64, \n",
    "                         sampler=sampler.SubsetRandomSampler(range(NUM_TRAIN)))\n",
    "\n",
    "cifar10_val = dset.CIFAR10('./datasets', train=True, download=True, \n",
    "                          transform=transform)\n",
    "loader_val = DataLoader(cifar10_val, batch_size=64, \n",
    "                       sampler=sampler.SubsetRandomSampler(range(NUM_TRAIN, 50000)))\n",
    "\n",
    "cifar10_test = dset.CIFAR10('./datasets', train=False, download=True, \n",
    "                            transform=transform)\n",
    "loader_test = DataLoader(cifar10_test, batch_size=64)"
   ]
  },
  {
   "cell_type": "code",
   "execution_count": 31,
   "metadata": {},
   "outputs": [],
   "source": [
    "def dim_helper(len_in, kernel, pad, stride): \n",
    "    out = ((len_in + 2 * pad - kernel - 2) / stride) + 1\n",
    "    return out"
   ]
  },
  {
   "cell_type": "code",
   "execution_count": 59,
   "metadata": {},
   "outputs": [
    {
     "data": {
      "text/plain": [
       "32.0"
      ]
     },
     "execution_count": 59,
     "metadata": {},
     "output_type": "execute_result"
    }
   ],
   "source": [
    "dim_helper(32, 3, 2, 1)"
   ]
  },
  {
   "cell_type": "code",
   "execution_count": 60,
   "metadata": {},
   "outputs": [],
   "source": [
    "# set up model architecture\n",
    "\n",
    "\"\"\"\n",
    "model details: \n",
    "- 5 conv layers\n",
    "- 3 FC layers\n",
    "- relu nonlinearities\n",
    "- local response normalization\n",
    "- dropout\n",
    "- momentum\n",
    "- flatten between conv and fc layers\n",
    "\"\"\"\n",
    "\n",
    "class AlexNet(nn.Module): \n",
    "    def __init__(self, num_classes=10):\n",
    "        super(AlexNet, self).__init__()\n",
    "        \n",
    "        ### TODO ### \n",
    "        # - initialize layers\n",
    "        # conv, localresponsenorm, fc, dropout\n",
    "        \n",
    "        # conv layers \n",
    "        # TODO: calculate the strides and paddings to fit dims\n",
    "        self.conv1 = nn.Conv2d(3, 96, kernel_size=3, stride=1, padding=2)\n",
    "        self.conv2 = nn.Conv2d(96, 256, kernel_size=3, stride=1, padding=2)\n",
    "        self.conv3 = nn.Conv2d(256, 384, kernel_size=3, stride=1, padding=2)\n",
    "        self.conv4 = nn.Conv2d(384, 192, kernel_size=3, stride=1, padding=2)\n",
    "        self.conv5 = nn.Conv2d(192, 256, kernel_size=3, stride=1, padding=2)\n",
    "        \n",
    "        # fully connected layers \n",
    "        # TODO: calculate in_features \n",
    "        self.fc1 = nn.Linear(in_features=256 * 62 * 62, out_features=4096)\n",
    "        self.fc2 = nn.Linear(4096, 4096)\n",
    "        self.fc3 = nn.Linear(in_features=4096, out_features=num_classes)\n",
    "        \n",
    "        # overlapping pool where s < z \n",
    "        self.pool = nn.MaxPool2d(kernel_size=3, stride=2)\n",
    "        \n",
    "        # ReLU nonlinearity\n",
    "        self.relu = nn.ReLU(inplace=True)\n",
    "        \n",
    "        # local response norm\n",
    "        # TODO: calc dims\n",
    "        self.localresponsenorm = nn.LocalResponseNorm(size=5, alpha=1e-4, \n",
    "                                                      beta=0.75, k=2.0)\n",
    "\n",
    "        # dropout regularization\n",
    "        self.dropout = nn.Dropout()\n",
    "\n",
    "        \n",
    "    def forward(self, x): \n",
    "        # define connectivity\n",
    "        x = self.conv1(x)\n",
    "        x = self.localresponsenorm(x)\n",
    "        x = self.relu(x)\n",
    "        x = self.pool(x)\n",
    "        \n",
    "        x = self.conv2(x)\n",
    "        x = self.localresponsenorm(x)\n",
    "        x = self.relu(x)\n",
    "        x = self.pool(x)\n",
    "        \n",
    "        x = self.conv3(x)\n",
    "        x = self.relu(x)\n",
    "        x = self.conv4(x)\n",
    "        x = self.relu(x)\n",
    "        x = self.conv5(x)\n",
    "        x = self.relu(x)\n",
    "        \n",
    "        x = torch.flatten(x, 1)\n",
    "        \n",
    "        x = self.dropout(x)\n",
    "        x = self.fc1(x)\n",
    "        x = self.relu(x)\n",
    "        \n",
    "        x = self.dropout(x)\n",
    "        x = self.fc2(x)\n",
    "        x = self.relu(x)\n",
    "        \n",
    "        x = self.dropout(x)\n",
    "        x = self.fc3(x)"
   ]
  },
  {
   "cell_type": "code",
   "execution_count": 61,
   "metadata": {},
   "outputs": [],
   "source": [
    "def check_accuracy(loader, model): \n",
    "    if loader.dataset.train: \n",
    "        print('checking validation set')\n",
    "    else: \n",
    "        print('checking test set')\n",
    "    num_correct, num_samples = 0, 0\n",
    "    model.eval()\n",
    "    with torch.no_grad():\n",
    "        for x, y in loader: \n",
    "            # put onto device (here using cpu)\n",
    "            x = x.to(device=device, dtype=dtype)\n",
    "            y = y.to(device=device, dtype=torch.long)\n",
    "            \n",
    "            # scores of val/test set\n",
    "            scores = model(x)\n",
    "            \n",
    "            # preds are argmaxes of scores\n",
    "            # torch.max returns tuple (values, indices)\n",
    "            _, preds = scores.max(1)\n",
    "            \n",
    "            num_correct += (preds == y).sum()\n",
    "            num_samples += preds.size(0)\n",
    "        acc = float(num_correct) / num_samples\n",
    "        print('%d / %d correct (%.2f)' % (num_correct, num_samples, 100*acc))\n",
    "            "
   ]
  },
  {
   "cell_type": "code",
   "execution_count": 65,
   "metadata": {},
   "outputs": [],
   "source": [
    "# write a training loop\n",
    "\n",
    "model = AlexNet()\n",
    "\n",
    "cross_entropy_loss = nn.CrossEntropyLoss()\n",
    "optimizer = optim.SGD(model.parameters(), lr=0.0005, momentum=0.9)\n",
    "\n",
    "def train(model, optimizer, epochs=1):\n",
    "    model = model.to(device=device)\n",
    "    for e in range(epochs): \n",
    "        for t, (x, y) in enumerate(loader_train): \n",
    "\n",
    "            # puts model in train mode. call model.eval() for testing\n",
    "            model.train() \n",
    "\n",
    "            # put onto device (here using cpu)\n",
    "            x = x.to(device=device, dtype=dtype)\n",
    "            y = y.to(device=device, dtype=torch.long)\n",
    "\n",
    "            # forward pass \n",
    "            scores = model(x)\n",
    "\n",
    "            # loss\n",
    "            loss = cross_entropy_loss(scores, y)\n",
    "\n",
    "            # zero the gradients\n",
    "            optimizer.zero_grad()\n",
    "            \n",
    "            # backward pass\n",
    "            loss.backward()\n",
    "\n",
    "            # update parameters\n",
    "            optimizer.step()\n",
    "\n",
    "            # print progress \n",
    "            print(t)\n",
    "            if t % 100 == 0: \n",
    "                print('Iteration %d, loss = %.4f' % (t, loss.item()))\n",
    "                check_accuracy(loader_val, model)\n",
    "                print()\n"
   ]
  },
  {
   "cell_type": "code",
   "execution_count": null,
   "metadata": {},
   "outputs": [],
   "source": [
    "# train the net\n",
    "train(model, optimizer)"
   ]
  },
  {
   "cell_type": "code",
   "execution_count": null,
   "metadata": {},
   "outputs": [],
   "source": [
    "# for test set evaluation\n",
    "best_model = model\n",
    "check_accuracy(loader_test, best_model)"
   ]
  }
 ],
 "metadata": {
  "kernelspec": {
   "display_name": "Python 3",
   "language": "python",
   "name": "python3"
  },
  "language_info": {
   "codemirror_mode": {
    "name": "ipython",
    "version": 3
   },
   "file_extension": ".py",
   "mimetype": "text/x-python",
   "name": "python",
   "nbconvert_exporter": "python",
   "pygments_lexer": "ipython3",
   "version": "3.8.5"
  }
 },
 "nbformat": 4,
 "nbformat_minor": 4
}
